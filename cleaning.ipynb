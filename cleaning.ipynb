{
 "cells": [
  {
   "cell_type": "code",
   "execution_count": null,
   "metadata": {},
   "outputs": [],
   "source": [
    "\"\"\" Leitura dos dados de Filmes\n",
    "\n",
    "O arquivo contem os seguintes dados:\n",
    "\n",
    "    - show_id:  identificador único para filme ou seriado\n",
    "    - type: Identifica se é um filme ou seriado\n",
    "    - title: titulo do filme ou seriado\n",
    "    - director: nome do diretor do filme ou seriado\n",
    "    - cast: (elenco) nome dos atores envolvidos\n",
    "    - country:  nome do pais onde o filme ou seriado foi produzido ou apresentado\n",
    "    - date_added: data em que o filme ou seriado foi adicionado a Netflix\n",
    "    - release_year: ano de llançamento do filme ou seriado\n",
    "    - rating: orientação parental\n",
    "    - duration: duração em minutos ou número de temporadas\n",
    "    - listed_in: categorias nas quais o filme ou seriado foi listado\n",
    "    - description: a descrição do summary\"\"\""
   ]
  },
  {
   "cell_type": "code",
   "execution_count": null,
   "metadata": {},
   "outputs": [],
   "source": [
    "# importando a biblioteca pandas para manipulação dos dados"
   ]
  }
 ],
 "metadata": {
  "language_info": {
   "name": "python"
  }
 },
 "nbformat": 4,
 "nbformat_minor": 2
}
