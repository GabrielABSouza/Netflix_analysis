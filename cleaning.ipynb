{
 "cells": [
  {
   "cell_type": "code",
   "execution_count": null,
   "metadata": {},
   "outputs": [],
   "source": [
    "\"\"\" Leitura dos dados de Filmes\n",
    "\n",
    "O arquivo contem os seguintes dados:\n",
    "\n",
    "    - show_id:  identificador único para filme ou seriado\n",
    "    - type: Identifica se é um filme ou seriado\n",
    "    - title: titulo do filme ou seriado\n",
    "    - director: nome do diretor do filme ou seriado\n",
    "    - cast: (elenco) nome dos atores envolvidos\n",
    "    - country:  nome do pais onde o filme ou seriado foi produzido ou apresentado\n",
    "    - date_added: data em que o filme ou seriado foi adicionado a Netflix\n",
    "    - release_year: ano de llançamento do filme ou seriado\n",
    "    - rating: orientação parental\n",
    "    - duration: duração em minutos ou número de temporadas\n",
    "    - listed_in: categorias nas quais o filme ou seriado foi listado\n",
    "    - description: a descrição do summary\"\"\""
   ]
  },
  {
   "cell_type": "code",
   "execution_count": null,
   "metadata": {},
   "outputs": [
    {
     "data": {
      "text/plain": [
       "title\n",
       "Dick Johnson Is Dead                     1\n",
       "Ip Man 2                                 1\n",
       "Hannibal Buress: Comedy Camisado         1\n",
       "Turbo FAST                               1\n",
       "Masha's Tales                            1\n",
       "                                        ..\n",
       "Love for Sale 2                          1\n",
       "ROAD TO ROMA                             1\n",
       "Good Time                                1\n",
       "Captain Underpants Epic Choice-o-Rama    1\n",
       "Zubaan                                   1\n",
       "Name: count, Length: 8807, dtype: int64"
      ]
     },
     "execution_count": 9,
     "metadata": {},
     "output_type": "execute_result"
    }
   ],
   "source": [
    "# importing pandas and creating the dataset\n",
    "import pandas as pd\n",
    "\n",
    "filename = 'dataset/netflix_titles.csv'\n",
    "df = pd.read_csv(filename, parse_dates=['date_added'])\n",
    "df.head()\n",
    "\n"
   ]
  },
  {
   "cell_type": "code",
   "execution_count": 3,
   "metadata": {},
   "outputs": [
    {
     "name": "stdout",
     "output_type": "stream",
     "text": [
      "<class 'pandas.core.frame.DataFrame'>\n",
      "RangeIndex: 8807 entries, 0 to 8806\n",
      "Data columns (total 12 columns):\n",
      " #   Column        Non-Null Count  Dtype \n",
      "---  ------        --------------  ----- \n",
      " 0   show_id       8807 non-null   object\n",
      " 1   type          8807 non-null   object\n",
      " 2   title         8807 non-null   object\n",
      " 3   director      6173 non-null   object\n",
      " 4   cast          7982 non-null   object\n",
      " 5   country       7976 non-null   object\n",
      " 6   date_added    8797 non-null   object\n",
      " 7   release_year  8807 non-null   int64 \n",
      " 8   rating        8803 non-null   object\n",
      " 9   duration      8804 non-null   object\n",
      " 10  listed_in     8807 non-null   object\n",
      " 11  description   8807 non-null   object\n",
      "dtypes: int64(1), object(11)\n",
      "memory usage: 825.8+ KB\n"
     ]
    }
   ],
   "source": [
    "# Verificação da qualidade dos dados\n",
    "df.info()"
   ]
  },
  {
   "cell_type": "code",
   "execution_count": null,
   "metadata": {},
   "outputs": [
    {
     "data": {
      "text/plain": [
       "show_id            0\n",
       "type               0\n",
       "title              0\n",
       "director        2634\n",
       "cast             825\n",
       "country          831\n",
       "date_added        10\n",
       "release_year       0\n",
       "rating             4\n",
       "duration           3\n",
       "listed_in          0\n",
       "description        0\n",
       "dtype: int64"
      ]
     },
     "execution_count": 4,
     "metadata": {},
     "output_type": "execute_result"
    }
   ],
   "source": [
    "# Checking for null data\n",
    "df.isna().sum()\n"
   ]
  },
  {
   "cell_type": "code",
   "execution_count": null,
   "metadata": {},
   "outputs": [
    {
     "data": {
      "text/html": [
       "<div>\n",
       "<style scoped>\n",
       "    .dataframe tbody tr th:only-of-type {\n",
       "        vertical-align: middle;\n",
       "    }\n",
       "\n",
       "    .dataframe tbody tr th {\n",
       "        vertical-align: top;\n",
       "    }\n",
       "\n",
       "    .dataframe thead th {\n",
       "        text-align: right;\n",
       "    }\n",
       "</style>\n",
       "<table border=\"1\" class=\"dataframe\">\n",
       "  <thead>\n",
       "    <tr style=\"text-align: right;\">\n",
       "      <th></th>\n",
       "      <th>show_id</th>\n",
       "      <th>type</th>\n",
       "      <th>title</th>\n",
       "      <th>director</th>\n",
       "      <th>cast</th>\n",
       "      <th>country</th>\n",
       "      <th>date_added</th>\n",
       "      <th>release_year</th>\n",
       "      <th>rating</th>\n",
       "      <th>duration</th>\n",
       "      <th>listed_in</th>\n",
       "      <th>description</th>\n",
       "    </tr>\n",
       "  </thead>\n",
       "  <tbody>\n",
       "  </tbody>\n",
       "</table>\n",
       "</div>"
      ],
      "text/plain": [
       "Empty DataFrame\n",
       "Columns: [show_id, type, title, director, cast, country, date_added, release_year, rating, duration, listed_in, description]\n",
       "Index: []"
      ]
     },
     "execution_count": 5,
     "metadata": {},
     "output_type": "execute_result"
    }
   ],
   "source": [
    "# Checking for duplicated data\n",
    "df[df.duplicated()]\n",
    "\n",
    "# if we had duplicates we should use:\n",
    "# df.drop_duplicates"
   ]
  },
  {
   "cell_type": "code",
   "execution_count": null,
   "metadata": {},
   "outputs": [
    {
     "data": {
      "text/plain": [
       "director\n",
       "Rajiv Chilaka                     19\n",
       "Raúl Campos, Jan Suter            18\n",
       "Marcus Raboy                      16\n",
       "Suhas Kadav                       16\n",
       "Jay Karas                         14\n",
       "                                  ..\n",
       "Raymie Muzquiz, Stu Livingston     1\n",
       "Joe Menendez                       1\n",
       "Eric Bross                         1\n",
       "Will Eisenberg                     1\n",
       "Mozez Singh                        1\n",
       "Name: count, Length: 4528, dtype: int64"
      ]
     },
     "execution_count": 7,
     "metadata": {},
     "output_type": "execute_result"
    }
   ],
   "source": [
    "# lets deal with the 2634 missing directors\n",
    "df['director'].value_counts()\n",
    "\n",
    "# the director with most titles has 19, therefor we have at least 400 different directors "
   ]
  },
  {
   "cell_type": "code",
   "execution_count": null,
   "metadata": {},
   "outputs": [],
   "source": [
    "# I chose to use scikit-learn to prepare the database and XGBoost to predict the director\n",
    "import numpy as np\n",
    "from sklearn.model_selection import train_test_split\n",
    "from sklearn.preprocessing import LabelEncoder, OneHotEncoder\n",
    "from sklearn.feature_extraction.text import TfidfVectorizer\n",
    "from sklearn.compose import ColumnTransformer\n",
    "from sklearn.pipeline import Pipeline\n",
    "from xgboost import XGBClassifier\n",
    "from sklearn.metrics import classification_report\n",
    "import joblib\n",
    "\n",
    "# the idea is to have a maximum number of directors and a category \"others\"\n",
    "TOP_N_DIRECTORS = 100  # Number of top directors to predict specifically\n",
    "MIN_SAMPLES = 5  # Minimum films a director must have to be included in TOP_N\n",
    "\n",
    "\n",
    "# Clean director data\n",
    "df.fillna({\"director\": 'UNKNOWN'}, inplace=True)"
   ]
  },
  {
   "cell_type": "code",
   "execution_count": 13,
   "metadata": {},
   "outputs": [],
   "source": [
    "# Create target variable - keep top N directors, group others as 'OTHER'\n",
    "director_counts = df['director'].value_counts()\n",
    "top_directors = director_counts[director_counts >= MIN_SAMPLES].index[:TOP_N_DIRECTORS]\n",
    "df['director_target'] = df['director'].apply(lambda x: x if x in top_directors else 'OTHER')\n",
    "\n",
    "# Extract year from date_added if available\n",
    "df['year_added'] = pd.to_datetime(df['date_added'], errors='coerce').dt.year\n",
    "\n",
    "# Create features\n",
    "features = df[['title', 'type', 'cast', 'country', 'release_year', 'rating', 'duration', 'listed_in']]\n",
    "target = df['director_target']\n",
    "\n",
    "# Split data\n",
    "X_train, X_test, y_train, y_test = train_test_split(features, target, test_size=0.2, random_state=42)"
   ]
  },
  {
   "cell_type": "code",
   "execution_count": 18,
   "metadata": {},
   "outputs": [],
   "source": [
    "# Text preprocessing for title\n",
    "import pyarrow\n",
    "from sklearn.preprocessing import StandardScaler\n",
    "title_transformer = Pipeline([\n",
    "    ('tfidf', TfidfVectorizer(max_features=200, stop_words='english'))\n",
    "])\n",
    "\n",
    "# Categorical features preprocessing\n",
    "categorical_transformer = Pipeline([\n",
    "    ('onehot', OneHotEncoder(handle_unknown='ignore', sparse_output=False))\n",
    "])\n",
    "\n",
    "# Numerical features preprocessing\n",
    "numerical_transformer = Pipeline([\n",
    "    ('scaler', StandardScaler())\n",
    "])\n",
    "\n",
    "# Column transformer\n",
    "preprocessor = ColumnTransformer([\n",
    "    ('title', title_transformer, 'title'),\n",
    "    ('text_features', TfidfVectorizer(max_features=100), 'listed_in'),\n",
    "    ('cat', categorical_transformer, ['type', 'rating']),\n",
    "    ('num', numerical_transformer, ['release_year', 'year_added'])\n",
    "], remainder='drop')"
   ]
  },
  {
   "cell_type": "code",
   "execution_count": null,
   "metadata": {},
   "outputs": [],
   "source": []
  },
  {
   "cell_type": "code",
   "execution_count": null,
   "metadata": {},
   "outputs": [],
   "source": []
  },
  {
   "cell_type": "code",
   "execution_count": null,
   "metadata": {},
   "outputs": [],
   "source": []
  }
 ],
 "metadata": {
  "kernelspec": {
   "display_name": "venv",
   "language": "python",
   "name": "python3"
  },
  "language_info": {
   "codemirror_mode": {
    "name": "ipython",
    "version": 3
   },
   "file_extension": ".py",
   "mimetype": "text/x-python",
   "name": "python",
   "nbconvert_exporter": "python",
   "pygments_lexer": "ipython3",
   "version": "3.12.7"
  }
 },
 "nbformat": 4,
 "nbformat_minor": 2
}
